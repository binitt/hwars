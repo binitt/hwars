{
 "cells": [
  {
   "cell_type": "code",
   "execution_count": 18,
   "id": "4a13aa76-c744-4ec3-b3e7-807a3a1abbee",
   "metadata": {},
   "outputs": [],
   "source": [
    "import pandas as pd\n",
    "import numpy as np\n",
    "from statsmodels.tsa.holtwinters import ExponentialSmoothing"
   ]
  },
  {
   "cell_type": "markdown",
   "id": "9503944a-63b9-4467-b517-a69456108768",
   "metadata": {},
   "source": [
    "# Problem Statement - Forecast the Price for Last Three Months based on the past 29 months Data.\n",
    "#### Q. Using Simple Exponential Smoothing model - what's the optimised value of Smoothing Level when Algorithm is trained with Optimised = True. \n",
    "#### Options : 0.11, 0.22, 0.1, 0.80 "
   ]
  },
  {
   "cell_type": "markdown",
   "id": "605ca420-b994-451b-a789-a7ad4940167f",
   "metadata": {},
   "source": [
    "## Solution : It involves following Steps:\n",
    "### 1. Data Preparation \n",
    "### 2. Training and Test Data Preparation\n",
    "### 3. Training with SimpleExponential Smoothing Model \n",
    "### 4. ForeCasting the Trained Model for Next Three Months. \n",
    "### 5. Model Analysis with RMSE and MAPE.\n",
    "### 6. Repeat with Douple Exponential Smoothing(Holt's Methid) and Triple Exponential Model Smoothing (Holtwinters' method)\n",
    "**Let's begin with step by step.** "
   ]
  },
  {
   "cell_type": "markdown",
   "id": "1c962d07-368e-450b-9f16-5368ea845612",
   "metadata": {},
   "source": [
    "## 1. Prepare Preparation"
   ]
  },
  {
   "cell_type": "code",
   "execution_count": 3,
   "id": "e9a06a45-8114-43df-aba8-bf287c80992c",
   "metadata": {
    "scrolled": true
   },
   "outputs": [
    {
     "data": {
      "text/html": [
       "<div>\n",
       "<style scoped>\n",
       "    .dataframe tbody tr th:only-of-type {\n",
       "        vertical-align: middle;\n",
       "    }\n",
       "\n",
       "    .dataframe tbody tr th {\n",
       "        vertical-align: top;\n",
       "    }\n",
       "\n",
       "    .dataframe thead th {\n",
       "        text-align: right;\n",
       "    }\n",
       "</style>\n",
       "<table border=\"1\" class=\"dataframe\">\n",
       "  <thead>\n",
       "    <tr style=\"text-align: right;\">\n",
       "      <th></th>\n",
       "      <th>Months</th>\n",
       "      <th>Price</th>\n",
       "    </tr>\n",
       "  </thead>\n",
       "  <tbody>\n",
       "    <tr>\n",
       "      <th>0</th>\n",
       "      <td>0</td>\n",
       "      <td>217.4</td>\n",
       "    </tr>\n",
       "    <tr>\n",
       "      <th>1</th>\n",
       "      <td>1</td>\n",
       "      <td>255.7</td>\n",
       "    </tr>\n",
       "    <tr>\n",
       "      <th>2</th>\n",
       "      <td>2</td>\n",
       "      <td>244.3</td>\n",
       "    </tr>\n",
       "    <tr>\n",
       "      <th>3</th>\n",
       "      <td>3</td>\n",
       "      <td>236.1</td>\n",
       "    </tr>\n",
       "    <tr>\n",
       "      <th>4</th>\n",
       "      <td>4</td>\n",
       "      <td>228.7</td>\n",
       "    </tr>\n",
       "  </tbody>\n",
       "</table>\n",
       "</div>"
      ],
      "text/plain": [
       "   Months  Price\n",
       "0       0  217.4\n",
       "1       1  255.7\n",
       "2       2  244.3\n",
       "3       3  236.1\n",
       "4       4  228.7"
      ]
     },
     "execution_count": 3,
     "metadata": {},
     "output_type": "execute_result"
    }
   ],
   "source": [
    "data = [\n",
    "    [0, 217.4],\n",
    "    [1, 255.7],\n",
    "    [2, 244.3],\n",
    "    [3, 236.1],\n",
    "    [4, 228.7],\n",
    "    [5, 262.9],\n",
    "    [6, 284.5],\n",
    "    [7, 231.4],\n",
    "    [8, 236.5],\n",
    "    [9, 316.0],\n",
    "    [10, 376.9],\n",
    "    [11, 429.0],\n",
    "    [12, 365.5],\n",
    "    [13, 439.2],\n",
    "    [14, 416.0],\n",
    "    [15, 446.6],\n",
    "    [16, 530.7],\n",
    "    [17, 674.7],\n",
    "    [18, 623.7],\n",
    "    [19, 576.2],\n",
    "    [20, 611.1],\n",
    "    [21, 704.1],\n",
    "    [22, 739.0],\n",
    "    [23, 966.6],\n",
    "    [24, 966.2],\n",
    "    [25, 1189.1],\n",
    "    [26, 1081.7],\n",
    "    [27, 1435.2],\n",
    "    [28, 2191.8],\n",
    "    [29, 2420.7],\n",
    "    [30, 2856.0],\n",
    "    [31, 4268.8]\n",
    "]\n",
    "\n",
    "# Convert data to DataFrame\n",
    "df = pd.DataFrame(data, columns=[\"Months\", \"Price\"])\n",
    "df.head()"
   ]
  },
  {
   "cell_type": "code",
   "execution_count": 4,
   "id": "f8df92f2-9cb8-4a2f-be3b-39246de78f69",
   "metadata": {},
   "outputs": [
    {
     "data": {
      "text/html": [
       "<div>\n",
       "<style scoped>\n",
       "    .dataframe tbody tr th:only-of-type {\n",
       "        vertical-align: middle;\n",
       "    }\n",
       "\n",
       "    .dataframe tbody tr th {\n",
       "        vertical-align: top;\n",
       "    }\n",
       "\n",
       "    .dataframe thead th {\n",
       "        text-align: right;\n",
       "    }\n",
       "</style>\n",
       "<table border=\"1\" class=\"dataframe\">\n",
       "  <thead>\n",
       "    <tr style=\"text-align: right;\">\n",
       "      <th></th>\n",
       "      <th>Months</th>\n",
       "      <th>Price</th>\n",
       "    </tr>\n",
       "  </thead>\n",
       "  <tbody>\n",
       "    <tr>\n",
       "      <th>count</th>\n",
       "      <td>32.000000</td>\n",
       "      <td>32.000000</td>\n",
       "    </tr>\n",
       "    <tr>\n",
       "      <th>mean</th>\n",
       "      <td>15.500000</td>\n",
       "      <td>838.196875</td>\n",
       "    </tr>\n",
       "    <tr>\n",
       "      <th>std</th>\n",
       "      <td>9.380832</td>\n",
       "      <td>908.925885</td>\n",
       "    </tr>\n",
       "    <tr>\n",
       "      <th>min</th>\n",
       "      <td>0.000000</td>\n",
       "      <td>217.400000</td>\n",
       "    </tr>\n",
       "    <tr>\n",
       "      <th>25%</th>\n",
       "      <td>7.750000</td>\n",
       "      <td>279.100000</td>\n",
       "    </tr>\n",
       "    <tr>\n",
       "      <th>50%</th>\n",
       "      <td>15.500000</td>\n",
       "      <td>488.650000</td>\n",
       "    </tr>\n",
       "    <tr>\n",
       "      <th>75%</th>\n",
       "      <td>23.250000</td>\n",
       "      <td>966.300000</td>\n",
       "    </tr>\n",
       "    <tr>\n",
       "      <th>max</th>\n",
       "      <td>31.000000</td>\n",
       "      <td>4268.800000</td>\n",
       "    </tr>\n",
       "  </tbody>\n",
       "</table>\n",
       "</div>"
      ],
      "text/plain": [
       "          Months        Price\n",
       "count  32.000000    32.000000\n",
       "mean   15.500000   838.196875\n",
       "std     9.380832   908.925885\n",
       "min     0.000000   217.400000\n",
       "25%     7.750000   279.100000\n",
       "50%    15.500000   488.650000\n",
       "75%    23.250000   966.300000\n",
       "max    31.000000  4268.800000"
      ]
     },
     "execution_count": 4,
     "metadata": {},
     "output_type": "execute_result"
    }
   ],
   "source": [
    "df.describe()"
   ]
  },
  {
   "cell_type": "markdown",
   "id": "d8bb3dd3-2e6b-41fb-bcbe-e011f2ae876d",
   "metadata": {},
   "source": [
    "## 2. Training and Test Data Preparation"
   ]
  },
  {
   "cell_type": "code",
   "execution_count": 5,
   "id": "9a77bb1f-80ef-49fc-a531-2e3beae85386",
   "metadata": {},
   "outputs": [
    {
     "name": "stdout",
     "output_type": "stream",
     "text": [
      "My Training Data : 0      217.4\n",
      "1      255.7\n",
      "2      244.3\n",
      "3      236.1\n",
      "4      228.7\n",
      "5      262.9\n",
      "6      284.5\n",
      "7      231.4\n",
      "8      236.5\n",
      "9      316.0\n",
      "10     376.9\n",
      "11     429.0\n",
      "12     365.5\n",
      "13     439.2\n",
      "14     416.0\n",
      "15     446.6\n",
      "16     530.7\n",
      "17     674.7\n",
      "18     623.7\n",
      "19     576.2\n",
      "20     611.1\n",
      "21     704.1\n",
      "22     739.0\n",
      "23     966.6\n",
      "24     966.2\n",
      "25    1189.1\n",
      "26    1081.7\n",
      "27    1435.2\n",
      "28    2191.8\n",
      "Name: Price, dtype: float64 \n",
      " and My Test Data: 29    2420.7\n",
      "30    2856.0\n",
      "31    4268.8\n",
      "Name: Price, dtype: float64\n"
     ]
    }
   ],
   "source": [
    "train_data = df[\"Price\"][:-3]\n",
    "test_data = df[\"Price\"][-3:]\n",
    "print(f\"My Training Data : {train_data} \\n and My Test Data: {test_data}\")"
   ]
  },
  {
   "cell_type": "markdown",
   "id": "c92f31c9-f013-43a4-84b9-58cedb3ed433",
   "metadata": {},
   "source": [
    "## 3. Training the model with Simple exponential"
   ]
  },
  {
   "cell_type": "code",
   "execution_count": 6,
   "id": "289b6a7f-c0d3-4057-a2d3-05e4724fd7af",
   "metadata": {},
   "outputs": [],
   "source": [
    "def train(train_data, optimized=True, trend=None, seasonal=None, seasonal_periods=None, smoothing_label=None):\n",
    "    model = ExponentialSmoothing(train_data, trend=trend, seasonal=seasonal, seasonal_periods=seasonal_periods)\n",
    "    model_fit = model.fit(optimized=optimized, smoothing_level=smoothing_label)\n",
    "    return model_fit"
   ]
  },
  {
   "cell_type": "markdown",
   "id": "89098cdc-4629-4071-bab6-3237bd4b9e62",
   "metadata": {},
   "source": [
    "## 4. ForeCast for len of Test Data using Model"
   ]
  },
  {
   "cell_type": "code",
   "execution_count": 7,
   "id": "5c552ed9-3d87-4ae8-bc3a-a21dba967361",
   "metadata": {},
   "outputs": [],
   "source": [
    "def predict(test_data, model):\n",
    "    forcasted = model.forecast(steps=len(test_data))\n",
    "    return forcasted"
   ]
  },
  {
   "cell_type": "markdown",
   "id": "e6e6ae7a-24a4-4d9a-a137-a319f55abcce",
   "metadata": {},
   "source": [
    "## 5. Evaluate Model with RMSE and MAPE metrics"
   ]
  },
  {
   "cell_type": "code",
   "execution_count": 8,
   "id": "e4d35823-7a6f-49dd-b08e-604630e54300",
   "metadata": {},
   "outputs": [],
   "source": [
    "def evaluate(test_data, forcasted):\n",
    "    mape = (np.abs(test_data - forcasted) / test_data).mean() * 100\n",
    "    \n",
    "    # Calculate Root Mean Squared Error (RMSE)\n",
    "    rmse = np.sqrt(np.mean((test_data - forcasted)**2))\n",
    "\n",
    "    print(f\"Mean Absolute Percentage Error (MAPE): {mape:.3f}%\")\n",
    "    print(f\"Root Mean Squared Error (RMSE): {rmse:.3f}\")"
   ]
  },
  {
   "cell_type": "code",
   "execution_count": 17,
   "id": "a97b9ac9-dd5c-4ef8-ac26-77c750380b2d",
   "metadata": {},
   "outputs": [
    {
     "name": "stdout",
     "output_type": "stream",
     "text": [
      "{'smoothing_level': 0.995, 'smoothing_trend': nan, 'smoothing_seasonal': nan, 'damping_trend': nan, 'initial_level': 217.59121386343764, 'initial_trend': nan, 'initial_seasons': array([], dtype=float64), 'use_boxcox': False, 'lamda': None, 'remove_bias': False}\n",
      "29    2188.008176\n",
      "30    2188.008176\n",
      "31    2188.008176\n",
      "dtype: float64\n",
      "Mean Absolute Percentage Error (MAPE): 27.249%\n",
      "Root Mean Squared Error (RMSE): 1268.865\n"
     ]
    }
   ],
   "source": [
    "model = train(train_data, smoothing_label=0.995)\n",
    "print(model.params)\n",
    "forcasted = predict(test_data, model)\n",
    "print(forcasted)\n",
    "evaluate(test_data, forcasted)"
   ]
  },
  {
   "cell_type": "markdown",
   "id": "adc0839d-aa46-46b6-9f39-77e29e463abd",
   "metadata": {},
   "source": [
    "**As Seen above MAPE is 27.25% and RMSE is 1268.86 - that means model wouldn't perform good. Lets try with variations of HOLT's model** "
   ]
  },
  {
   "cell_type": "markdown",
   "id": "a3611f0d-52ba-452c-a762-520e70f2fe22",
   "metadata": {},
   "source": [
    "## Repeat with Double Exponential -- Trend "
   ]
  },
  {
   "cell_type": "code",
   "execution_count": 10,
   "id": "46665882-0e79-4ff1-9dc1-ebdbc0fe33fe",
   "metadata": {},
   "outputs": [
    {
     "name": "stdout",
     "output_type": "stream",
     "text": [
      "{'smoothing_level': 0.995, 'smoothing_trend': 0.4264285714285714, 'smoothing_seasonal': nan, 'damping_trend': nan, 'initial_level': 222.41999999999987, 'initial_trend': 5.260000000000016, 'initial_seasons': array([], dtype=float64), 'use_boxcox': False, 'lamda': None, 'remove_bias': False}\n",
      "29    2607.261737\n",
      "30    3025.674541\n",
      "31    3444.087345\n",
      "dtype: float64\n",
      "Mean Absolute Percentage Error (MAPE): 10.989%\n",
      "Root Mean Squared Error (RMSE): 497.911\n"
     ]
    }
   ],
   "source": [
    "model = train(train_data, smoothing_label=None, trend=\"add\")\n",
    "forcasted = predict(test_data, model)\n",
    "print(model.params)\n",
    "print(forcasted)\n",
    "evaluate(test_data, forcasted)"
   ]
  },
  {
   "cell_type": "markdown",
   "id": "5a71468e-e6b4-4b58-bafe-42254352cd00",
   "metadata": {},
   "source": [
    "**Double Exponential Smoothing Performs better than Simple Exponential Smoothing with Smoothing Label = 0.6**"
   ]
  },
  {
   "cell_type": "markdown",
   "id": "54efba22-0517-49a6-adb0-8064b417e01a",
   "metadata": {},
   "source": [
    "## Repeat with Triple Exponential -- Trend & Seasonal"
   ]
  },
  {
   "cell_type": "code",
   "execution_count": 11,
   "id": "8186c9f6-72aa-423d-9223-da331e0c5830",
   "metadata": {},
   "outputs": [
    {
     "name": "stdout",
     "output_type": "stream",
     "text": [
      "{'smoothing_level': 0.9953265659907837, 'smoothing_trend': 0.4969758853374483, 'smoothing_seasonal': 0.004465327903089963, 'damping_trend': nan, 'initial_level': 200.44162692873093, 'initial_trend': 18.31293002024134, 'initial_seasons': array([ 13.89519488,   2.41561662, -75.18374266, -55.5365589 ,\n",
      "        27.03297925,  86.27775981]), 'use_boxcox': False, 'lamda': None, 'remove_bias': False}\n",
      "29    2685.709930\n",
      "30    3047.229447\n",
      "31    3470.548693\n",
      "dtype: float64\n",
      "Mean Absolute Percentage Error (MAPE): 12.114%\n",
      "Root Mean Squared Error (RMSE): 497.997\n"
     ]
    }
   ],
   "source": [
    "model = train(train_data,smoothing_label=None,  trend=\"add\", seasonal=\"add\", seasonal_periods=6)\n",
    "forcasted = predict(test_data, model)\n",
    "print(model.params)\n",
    "print(forcasted)\n",
    "evaluate(test_data, forcasted)"
   ]
  },
  {
   "cell_type": "markdown",
   "id": "69ec6f70-ae3d-4e76-9384-f7ee712fdb31",
   "metadata": {},
   "source": [
    "**As seen from MAPE & RMSE values ForeCastings are better with Triple Exponential Holt's method than SimpleExpomnential or Double Exponential Method**"
   ]
  },
  {
   "cell_type": "markdown",
   "id": "565a3844-e744-47ec-9349-2305d94ff6e3",
   "metadata": {},
   "source": [
    "## Repeat with Double Exponential - Trend & Seasonal with Trend being Multiplicative"
   ]
  },
  {
   "cell_type": "code",
   "execution_count": 12,
   "id": "e39cba11-dafa-4c39-94fb-f2d551fd28a1",
   "metadata": {},
   "outputs": [
    {
     "name": "stdout",
     "output_type": "stream",
     "text": [
      "{'smoothing_level': 0.5975736399801944, 'smoothing_trend': 0.5975733810152634, 'smoothing_seasonal': 8.3091359396345e-05, 'damping_trend': nan, 'initial_level': 203.83521636989593, 'initial_trend': 1.0268708768315418, 'initial_seasons': array([1.20173523, 1.22138542, 1.00144091, 1.08669546, 1.31542165,\n",
      "       1.39321733]), 'use_boxcox': False, 'lamda': None, 'remove_bias': False}\n",
      "29    2751.826671\n",
      "30    2902.236862\n",
      "31    3606.501843\n",
      "dtype: float64\n",
      "Mean Absolute Percentage Error (MAPE): 10.271%\n",
      "Root Mean Squared Error (RMSE): 428.338\n"
     ]
    }
   ],
   "source": [
    "model = train(train_data,smoothing_label=None,  trend=\"mul\", seasonal=\"mul\", seasonal_periods=6)\n",
    "forcasted = predict(test_data, model)\n",
    "print(model.params)\n",
    "print(forcasted)\n",
    "evaluate(test_data, forcasted)"
   ]
  },
  {
   "cell_type": "markdown",
   "id": "a355b2b7-54b8-4be9-8f4f-47c9e58a6c68",
   "metadata": {},
   "source": [
    "**As seen from MAPE & RMSE, Triple Exponential Smoonthing with Multicative for seasonal forecasts better than with Additive** "
   ]
  },
  {
   "cell_type": "code",
   "execution_count": 13,
   "id": "bc14d8f6-cd53-4008-82bb-dd5125c9d4cb",
   "metadata": {},
   "outputs": [
    {
     "name": "stdout",
     "output_type": "stream",
     "text": [
      "{'smoothing_level': 0.8889311096719034, 'smoothing_trend': 0.8889014238582772, 'smoothing_seasonal': 0.1110651640358054, 'damping_trend': nan, 'initial_level': 201.5390922813669, 'initial_trend': 18.026352675874282, 'initial_seasons': array([1.26374379, 1.14043606, 0.89493085, 1.07850237, 1.23962812,\n",
      "       1.39070203]), 'use_boxcox': False, 'lamda': None, 'remove_bias': False}\n",
      "29    3298.820609\n",
      "30    3435.657516\n",
      "31    3785.409291\n",
      "dtype: float64\n",
      "Mean Absolute Percentage Error (MAPE): 22.632%\n",
      "Root Mean Squared Error (RMSE): 668.522\n"
     ]
    }
   ],
   "source": [
    "model = train(train_data,smoothing_label=None,  trend=\"add\", seasonal=\"mul\", seasonal_periods=6)\n",
    "forcasted = predict(test_data, model)\n",
    "print(model.params)\n",
    "print(forcasted)\n",
    "evaluate(test_data, forcasted)"
   ]
  },
  {
   "cell_type": "markdown",
   "id": "6df23edd-785c-4433-81e7-11a75fe31ae0",
   "metadata": {},
   "source": [
    "**As seen from MAPE & RMSE, Triple Exponential Smoonthing with Additive for Trend and Multicative for seasonal forecasts arenot better than trend and seasonal both being mulplictaive** "
   ]
  },
  {
   "cell_type": "code",
   "execution_count": null,
   "id": "0efbad11-072b-4a3f-a1b8-d2a4631828fe",
   "metadata": {},
   "outputs": [],
   "source": []
  }
 ],
 "metadata": {
  "kernelspec": {
   "display_name": "Python 3 (ipykernel)",
   "language": "python",
   "name": "python3"
  },
  "language_info": {
   "codemirror_mode": {
    "name": "ipython",
    "version": 3
   },
   "file_extension": ".py",
   "mimetype": "text/x-python",
   "name": "python",
   "nbconvert_exporter": "python",
   "pygments_lexer": "ipython3",
   "version": "3.10.12"
  },
  "widgets": {
   "application/vnd.jupyter.widget-state+json": {
    "state": {},
    "version_major": 2,
    "version_minor": 0
   }
  }
 },
 "nbformat": 4,
 "nbformat_minor": 5
}
